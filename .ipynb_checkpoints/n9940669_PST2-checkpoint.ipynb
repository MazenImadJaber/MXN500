{
 "cells": [
  {
   "cell_type": "markdown",
   "id": "c3e3ce48-ccbb-48b6-b87a-685a83c12f15",
   "metadata": {},
   "source": [
    "### Student Details\n",
    "\n",
    "Family Name: Jaber\n",
    "\n",
    "Given Name: Mazen Imad\n",
    "\n",
    "Student Number:n9940669\n",
    "\n",
    "### Introduction\n",
    "\n",
    "#### Background\n",
    "\n",
    "Large scale climate drivers such as the El Niño Southern Oscillation\n",
    "(ENSO) are known to have an impact on Australian rainfall patterns. ENSO\n",
    "has three phases, El Niño, Neutral and La Niña. Generally, in the La\n",
    "Niña phase of ENSO conditions are cooler and wetter along the Eastern\n",
    "Australian coast. In comparison during the El Niño phase conditions are\n",
    "hotter and drier. In this problem solving task, you will be using your\n",
    "knowledge of regression to explore the relationship between ENSO and\n",
    "Australian rainfall.\n",
    "\n",
    "Note that it is not possible to measure the strength of ENSO directly,\n",
    "so in regression models the Southern Oscillation Index (SOI) is commonly\n",
    "used to represent the strength of ENSO. The SOI is a climate index that\n",
    "measures the normalised pressure difference between Tahiti and Darwin.\n",
    "You do not need to provide units when displaying SOI on a plot axis as\n",
    "it is an index. ENSO is considered to be in the La Niña phase when there\n",
    "are sustained SOI values above 7, the El Niño phase when there are\n",
    "sustained SOI values below -7, and the Neutral phase otherwise. A csv\n",
    "file containing the monthly SOI values can be obtained from blackboard.\n",
    "More details about ENSO and SOI can be found on the Bureau of\n",
    "Meteorology website (<http://www.bom.gov.au/climate/enso>).\n",
    "\n",
    "#### Datasets\n",
    "\n",
    "Two datasets are provided for this assignment. Similarly to the data\n",
    "used in problem solving task 1, there is a precipitation dataset,\n",
    "`total_seasonal_rainfall.csv`. This dataset contains the seasonal\n",
    "rainfall totals recorded at `BRISBANE AERO` station and includes\n",
    "variables:\n",
    "\n",
    "-   The GHCN Daily station `id` (character)\n",
    "-   The `Season` of the observation (ordinal, categorical)\n",
    "-   The `Year` of the observation (numeric)\n",
    "-   The `total_seas_prcp` is the total amount of rainfall received\n",
    "    during that Season in mm (numeric).\n",
    "-   The GHCN Daily station `name` (character)\n",
    "\n",
    "In the dataset, `seasonal_soi_data.csv`, the variables included are:\n",
    "\n",
    "-   The `Season` of the observation (ordinal, categorical)\n",
    "-   The `Year` of the observation (numeric)\n",
    "-   The `SeasonalSOI` is the mean seasonal SOI value (numeric)\n",
    "-   The `Phase` of the ENSO (ordinal, categorical)."
   ]
  },
  {
   "cell_type": "markdown",
   "id": "e507e1e6-35e7-4719-a642-507970841b61",
   "metadata": {},
   "source": [
    "### Preprocessing"
   ]
  },
  {
   "cell_type": "markdown",
   "id": "d75d7ce8-44cf-42ac-9f49-781b6c2fae3d",
   "metadata": {},
   "source": [
    "##### Question 1.1: (1 mark)\n",
    "\n",
    "Download the the files `total_seasonal_rainfall.csv` and\n",
    "`seasonal_soi_data.csv` from Canvas. Combine all the variables from\n",
    "these two datasets into the single dataset `total_seasonal_rainfall`.\n",
    "\n",
    "Print the first three rows to show the form of your new dataset."
   ]
  },
  {
   "cell_type": "code",
   "execution_count": null,
   "id": "3b7184c7-c405-424c-9926-ef6c3bfd90e8",
   "metadata": {},
   "outputs": [],
   "source": []
  },
  {
   "cell_type": "markdown",
   "id": "293cd2ad-1158-4bd4-bb74-f51db0473edf",
   "metadata": {},
   "source": [
    "##### Question 1.2: (3 marks)\n",
    "\n",
    "Convert the appropriate variables to factors in your dataset. Be sure to\n",
    "set the factor levels appropriately for later analysis.\n",
    "\n",
    "Show your code and show the factor levels."
   ]
  },
  {
   "cell_type": "markdown",
   "id": "c580487e-d78b-413f-82f1-09939196d476",
   "metadata": {},
   "source": [
    "### Exploratory Visualisaion\n",
    "\n",
    "For each season, we are interested in whether a simple linear regression\n",
    "\n",
    "$$y_{i} = \\beta_{0} + \\beta_{1}x_{i} + \\varepsilon_{i},\\quad\\varepsilon_{i} \\sim N\\left( 0,\\sigma^{2} \\right)\\quad\\quad\\quad\\quad(1)$$\n",
    "\n",
    "could be used to model the relationship between the mean seasonal SOI\n",
    "value and total seasonal precipitation."
   ]
  },
  {
   "cell_type": "markdown",
   "id": "5ef2e140-ca27-4f3f-8427-e2bf5d48f639",
   "metadata": {},
   "source": [
    "##### Question 2.1: (5 marks)\n",
    "\n",
    "Create a visualisation that explores the relationship between\n",
    "`SeasonalSOI` and `total_seasonal_prcp` for each season.\n",
    "\n",
    "Use `geom_smooth()` to add both the null model and the linear model from\n",
    "equation (1)."
   ]
  },
  {
   "cell_type": "markdown",
   "id": "bea2485c-acd4-4e99-85c6-cf81442b17ee",
   "metadata": {},
   "source": [
    "##### Question 2.2: (3 marks)\n",
    "\n",
    "Using your visualisation, for which seasons would you expect there to be\n",
    "a significant linear relationship between total seasonal precipitation\n",
    "and the mean seasonal SOI value? Give your reasoning."
   ]
  },
  {
   "cell_type": "markdown",
   "id": "3339084f-8928-4560-8e94-26a84308a0af",
   "metadata": {},
   "source": [
    "### Simple linear Regression\n",
    "\n",
    "For the season with the strongest relationship (as determined in the\n",
    "previous section) fit the regression model from equation (1) and answer\n",
    "the following questions."
   ]
  },
  {
   "cell_type": "markdown",
   "id": "aa6f1e87-86cb-490f-8d0b-d6919066a60e",
   "metadata": {},
   "source": [
    "##### Question 3.1: (2 marks)\n",
    "\n",
    "Fill in the blanks in the following sentence so that it refers to the\n",
    "terms in the regression model.\n",
    "\n",
    "*For the* `BRISBANE AERO` *Station and the* $\\ldots$ *season, a linear\n",
    "model was specified to model how the total seasonal precipitation,*\n",
    "$\\ldots$*, is related to the mean seasonal SOI value,* $\\ldots$*. The\n",
    "parameter* $\\ldots$ *describes the rate of change in the total seasonal\n",
    "precipitation with an increase in mean seasonal SOI value. The\n",
    "parameter* $\\ldots$ *represents the total seasonal precipitation when\n",
    "the mean seasonal SOI value is 0.*"
   ]
  },
  {
   "cell_type": "markdown",
   "id": "5fece30b-b274-43a0-90f5-b9256000cf5d",
   "metadata": {},
   "source": [
    "##### Question 3.2: (2 marks)\n",
    "\n",
    "Write down the equation for the linear model above, substituting the\n",
    "parameter values into the equation."
   ]
  },
  {
   "cell_type": "markdown",
   "id": "192d4cc5-3c37-420d-98b3-3596de4d4b3b",
   "metadata": {},
   "source": [
    "##### Question 3.3: (2 marks)\n",
    "\n",
    "Provide a 95% confidence interval for the parameter estimates."
   ]
  },
  {
   "cell_type": "markdown",
   "id": "13c4337d-7d88-4713-b2fc-af7201940c4a",
   "metadata": {},
   "source": [
    "##### Question 3.4: (1 mark)\n",
    "\n",
    "How much variability in the data is explained by this model?"
   ]
  },
  {
   "cell_type": "markdown",
   "id": "03ea8684-caa4-4260-8a9d-421b7fa52475",
   "metadata": {},
   "source": [
    "##### Question 3.5: (4 marks)\n",
    "\n",
    "Visualise the fitted values compared with the residuals, and visualise\n",
    "the standardised quantiles of the residuals compared with the\n",
    "theoretical quantiles.\n",
    "\n",
    "Discuss the validity of the assumptions of this linear regression."
   ]
  },
  {
   "cell_type": "markdown",
   "id": "02b49163-ec65-49e4-83ee-ea2f5564a671",
   "metadata": {},
   "source": [
    "##### Question 3.6: (4 marks)\n",
    "\n",
    "Print out a summary of your linear model and interpret the results. Make\n",
    "sure you discuss the physical meaning of the model, which parameters are\n",
    "significant and whether the linear model is significantly different\n",
    "compared to the null model."
   ]
  },
  {
   "cell_type": "markdown",
   "id": "ea047997-2553-4e4c-8e31-b304287cd88a",
   "metadata": {},
   "source": [
    "##### Question 3.7: (2 marks)\n",
    "\n",
    "Discuss whether your fitted model is a good model to use to predict\n",
    "seasonal rainfall totals using the mean seasonal SOI."
   ]
  },
  {
   "cell_type": "markdown",
   "id": "8738e265-24b1-46d9-97f1-79509b5839f3",
   "metadata": {},
   "source": [
    "### Polynomial Lines of Best Fit\n",
    "\n",
    "Climate experts think that in places where it rains a lot, it might rain\n",
    "even more. But in dry places, it might not get any drier. This means\n",
    "that in Australia, the amount of rain might change differently during La\n",
    "Niña and El Niño, which are two opposite weather patterns. Because of\n",
    "this, it could be useful to see if a polynomial regression fits our data\n",
    "better."
   ]
  },
  {
   "cell_type": "markdown",
   "id": "12ac7ba1-ffc2-406e-8b3e-2b142fbd2063",
   "metadata": {},
   "source": [
    "##### Question 4.1: (2 marks)\n",
    "\n",
    "For `BRISBANE AERO` and the season you chose earlier, fit a linear\n",
    "regression using polynomial explanatory variables of up to order 2 of\n",
    "the `SeasonalSOI`.\n",
    "\n",
    "Write down the equation with your estimated parameter values."
   ]
  },
  {
   "cell_type": "markdown",
   "id": "83070b97-d513-41f3-8d20-681822f6f554",
   "metadata": {},
   "source": [
    "##### Question 4.2: (3 marks)\n",
    "\n",
    "Print out a summary of your fitted model, interpret the significance of\n",
    "the results and explain the related physical meaning."
   ]
  },
  {
   "cell_type": "markdown",
   "id": "7a97513c-d47b-482b-92e7-c7057c838fc2",
   "metadata": {},
   "source": [
    "##### Question 4.3: (3 marks)\n",
    "\n",
    "Create a prediction interval for a mean seasonal SOI value of 25 and a\n",
    "mean seasonal SOI value of -25. Discuss the appropriateness of\n",
    "extrapolating the model to these values."
   ]
  },
  {
   "cell_type": "markdown",
   "id": "9059859b-ce4c-413c-9436-e0c9455246f2",
   "metadata": {},
   "source": [
    "##### Question 4.4: (3 marks)\n",
    "\n",
    "Decide whether a linear or polynomial regression is preferred using a\n",
    "statistical test. Be sure to describe your statistical test in detail."
   ]
  },
  {
   "cell_type": "markdown",
   "id": "e0d2857f-0878-4403-848a-59ef761b42f4",
   "metadata": {},
   "source": [
    "### Linear Regression with Categorical Explanatory Variables\n",
    "\n",
    "Within the analysis so far the role of ENSO phases has been modelled\n",
    "solely using the SOI. For model simplicity and for physical\n",
    "understanding, it may be useful to consider only the phases."
   ]
  },
  {
   "cell_type": "markdown",
   "id": "967a8ccb-2764-4832-b503-7f67f416b768",
   "metadata": {},
   "source": [
    "##### Question 5.1: (3 marks)\n",
    "\n",
    "Consider again `BRISBANE AERO` and your chosen season. To better\n",
    "understand the role of different Phases of ENSO, fit a categorical\n",
    "regression model of the form:\n",
    "\n",
    "$$y_{i} = \\beta_{0} + \\beta_{1}\\mathbb{I}\\left( \\text{Phase} = \\text{Neutral} \\right) + \\beta_{2}\\mathbb{I}\\left( \\text{Phase} = \\text{LaNina} \\right),\\quad\\epsilon \\sim N\\left( 0,\\sigma^{2} \\right).\\quad\\quad\\quad(2)$$\n",
    "\n",
    "Print the model summary."
   ]
  },
  {
   "cell_type": "markdown",
   "id": "c4e84504-37fb-4e4b-9bc0-a511c7bbe3d6",
   "metadata": {},
   "source": [
    "##### Question 5.2: (1 mark)\n",
    "\n",
    "Write down the linear model substituting the parameter values into the\n",
    "equation."
   ]
  },
  {
   "cell_type": "markdown",
   "id": "d48c910a-55e8-4147-bdba-abcecd8addd5",
   "metadata": {},
   "source": [
    "##### Question 5.3: (3 marks)\n",
    "\n",
    "Interpret the significance of the results of your fitted model and\n",
    "explain the related the physical meaning."
   ]
  },
  {
   "cell_type": "markdown",
   "id": "63fa5cad-426e-40de-a7b6-a021c71b894f",
   "metadata": {},
   "source": [
    "##### Question 5.4: (3 marks)\n",
    "\n",
    "Do the results of this categorical linear model support your choice of\n",
    "linear or polynomial regression above?"
   ]
  },
  {
   "cell_type": "markdown",
   "id": "32f69d20-a60c-4405-b314-cc26203b1c81",
   "metadata": {},
   "source": [
    "### Code quality and readability\n",
    "\n",
    "##### Readability and clarity of code (5 marks)\n",
    "\n",
    "This assignment is primarily about your ability to perform a statistical\n",
    "data analysis, with additional marks based on how clear and readable\n",
    "your code is. To facilitate the markers’ evaluation, please ensure that\n",
    "you provide comments in your code corresponding to each question."
   ]
  }
 ],
 "metadata": {
  "kernelspec": {
   "display_name": "R",
   "language": "R",
   "name": "ir"
  },
  "language_info": {
   "codemirror_mode": "r",
   "file_extension": ".r",
   "mimetype": "text/x-r-source",
   "name": "R",
   "pygments_lexer": "r",
   "version": "3.6.1"
  }
 },
 "nbformat": 4,
 "nbformat_minor": 5
}
